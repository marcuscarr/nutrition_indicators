{
 "cells": [
  {
   "cell_type": "code",
   "execution_count": 1,
   "metadata": {
    "collapsed": false
   },
   "outputs": [],
   "source": [
    "import pandas as pd\n",
    "import numpy as np\n",
    "import matplotlib.pyplot as plt\n",
    "% matplotlib inline"
   ]
  },
  {
   "cell_type": "code",
   "execution_count": 72,
   "metadata": {
    "collapsed": false
   },
   "outputs": [],
   "source": [
    "df_ant_cd = pd.read_csv('../nutrition_indicators/Malawi/mwi_anthropometry_codebook.csv')\n",
    "df_ant = pd.read_csv('../nutrition_indicators/Malawi/mwi_anthropometry.csv')\n",
    "df_nut_cd = pd.read_csv('../nutrition_indicators/Malawi/mwi_nutrition_codebook.csv')\n",
    "df_nut = pd.read_csv('../nutrition_indicators/Malawi/mwi_nutrition.csv', dtype={'hhid':np.int64, 'def_kcal_ae_hh':np.int64})"
   ]
  },
  {
   "cell_type": "code",
   "execution_count": null,
   "metadata": {
    "collapsed": false
   },
   "outputs": [],
   "source": []
  },
  {
   "cell_type": "code",
   "execution_count": 73,
   "metadata": {
    "collapsed": false
   },
   "outputs": [],
   "source": [
    "df = df_nut.merge(df_ant, on = 'hhid')"
   ]
  },
  {
   "cell_type": "code",
   "execution_count": 74,
   "metadata": {
    "collapsed": true
   },
   "outputs": [],
   "source": [
    "def get_corr(df, col):\n",
    "    df_corr = df[df[col].notnull()]\n",
    "    df_corr = df_corr.corr()[[col]]\n",
    "    df_corr = df_corr.applymap(lambda x: abs(x))\n",
    "    df_corr = df_corr.sort(columns = col, ascending= False)\n",
    "    return df_corr"
   ]
  },
  {
   "cell_type": "code",
   "execution_count": 75,
   "metadata": {
    "collapsed": false
   },
   "outputs": [],
   "source": [
    "df.corr()[['bmiz06','whz06','waz06', 'haz06']].to_csv('correlations.csv')"
   ]
  },
  {
   "cell_type": "code",
   "execution_count": 76,
   "metadata": {
    "collapsed": true
   },
   "outputs": [],
   "source": [
    "correl = df.corr()[['bmiz06','whz06','waz06', 'haz06']]"
   ]
  },
  {
   "cell_type": "code",
   "execution_count": 77,
   "metadata": {
    "collapsed": false
   },
   "outputs": [],
   "source": [
    "df_nut['micro_rec_count'] = (df_nut.def_iron_rec_hh + df_nut.def_zinc_rec_hh + df_nut.def_vita_A_rec_hh + \n",
    "                             df_nut.def_vita_E_rec_hh + df_nut.def_vita_C_rec_hh + df_nut.def_ribof_rec_hh + \n",
    "                             df_nut.def_thia_rec_hh + df_nut.def_nia_rec_hh + df_nut.def_vita_B6_rec_hh + \n",
    "                             df_nut.def_fol_rec_hh + df_nut.def_calcium_rec_hh + df_nut.def_vita_B12_rec_hh)"
   ]
  },
  {
   "cell_type": "code",
   "execution_count": 78,
   "metadata": {
    "collapsed": false
   },
   "outputs": [],
   "source": [
    "def make_indicator(val):\n",
    "    yesno = {}\n",
    "    yesno['Yes'] = 1\n",
    "    yesno['No'] = 0\n",
    "    \n",
    "    return yesno[val]"
   ]
  },
  {
   "cell_type": "code",
   "execution_count": 79,
   "metadata": {
    "collapsed": false
   },
   "outputs": [
    {
     "data": {
      "text/plain": [
       "0       0\n",
       "1       0\n",
       "2       0\n",
       "3       0\n",
       "4       0\n",
       "5       0\n",
       "6       0\n",
       "7       0\n",
       "8       0\n",
       "9       0\n",
       "10      0\n",
       "11      0\n",
       "12      0\n",
       "13      0\n",
       "14      0\n",
       "15      0\n",
       "16      0\n",
       "17      0\n",
       "18      0\n",
       "19      0\n",
       "20      0\n",
       "21      0\n",
       "22      0\n",
       "23      0\n",
       "24      0\n",
       "25      0\n",
       "26      0\n",
       "27      0\n",
       "28      0\n",
       "29      0\n",
       "       ..\n",
       "1112    0\n",
       "1113    0\n",
       "1114    0\n",
       "1115    1\n",
       "1116    0\n",
       "1117    0\n",
       "1118    0\n",
       "1119    0\n",
       "1120    0\n",
       "1121    1\n",
       "1122    1\n",
       "1123    0\n",
       "1124    0\n",
       "1125    0\n",
       "1126    0\n",
       "1127    0\n",
       "1128    0\n",
       "1129    0\n",
       "1130    0\n",
       "1131    0\n",
       "1132    0\n",
       "1133    0\n",
       "1134    0\n",
       "1135    0\n",
       "1136    0\n",
       "1137    0\n",
       "1138    0\n",
       "1139    0\n",
       "1140    0\n",
       "1141    0\n",
       "Name: def_iron_rec_hh, dtype: int64"
      ]
     },
     "execution_count": 79,
     "metadata": {},
     "output_type": "execute_result"
    }
   ],
   "source": [
    "df_nut.def_iron_rec_hh.map(make_indicator)"
   ]
  },
  {
   "cell_type": "code",
   "execution_count": 80,
   "metadata": {
    "collapsed": true
   },
   "outputs": [],
   "source": [
    "rec_cols = ['def_iron_rec_hh', 'def_zinc_rec_hh', 'def_vita_A_rec_hh',\n",
    "            'def_vita_E_rec_hh', 'def_vita_C_rec_hh', 'def_ribof_rec_hh', \n",
    "            'def_thia_rec_hh', 'def_nia_rec_hh', 'def_vita_B6_rec_hh', \n",
    "            'def_fol_rec_hh', 'def_calcium_rec_hh', 'def_vita_B12_rec_hh']\n",
    "req_cols = ['def_iron_req_hh', 'def_zinc_req_hh', 'def_vita_A_req_hh',\n",
    "           'def_vita_E_req_hh', 'def_vita_C_req_hh', 'def_ribof_req_hh', \n",
    "           'def_thia_req_hh', 'def_nia_req_hh', 'def_vita_B6_req_hh', \n",
    "           'def_fol_req_hh', 'def_calcium_req_hh', 'def_vita_B12_req_hh']"
   ]
  },
  {
   "cell_type": "code",
   "execution_count": 81,
   "metadata": {
    "collapsed": true
   },
   "outputs": [],
   "source": [
    "for i in rec_cols + req_cols:\n",
    "    df_nut[i] = df_nut[i].map(make_indicator)"
   ]
  },
  {
   "cell_type": "code",
   "execution_count": 82,
   "metadata": {
    "collapsed": false
   },
   "outputs": [
    {
     "data": {
      "text/plain": [
       "0       0\n",
       "1       0\n",
       "2       0\n",
       "3       1\n",
       "4       0\n",
       "5       0\n",
       "6       0\n",
       "7       0\n",
       "8       0\n",
       "9       0\n",
       "10      1\n",
       "11      1\n",
       "12      0\n",
       "13      0\n",
       "14      0\n",
       "15      0\n",
       "16      1\n",
       "17      0\n",
       "18      0\n",
       "19      0\n",
       "20      1\n",
       "21      0\n",
       "22      1\n",
       "23      0\n",
       "24      0\n",
       "25      0\n",
       "26      0\n",
       "27      0\n",
       "28      1\n",
       "29      0\n",
       "       ..\n",
       "1112    1\n",
       "1113    1\n",
       "1114    0\n",
       "1115    1\n",
       "1116    1\n",
       "1117    0\n",
       "1118    1\n",
       "1119    1\n",
       "1120    0\n",
       "1121    1\n",
       "1122    1\n",
       "1123    1\n",
       "1124    0\n",
       "1125    1\n",
       "1126    1\n",
       "1127    1\n",
       "1128    0\n",
       "1129    1\n",
       "1130    1\n",
       "1131    0\n",
       "1132    0\n",
       "1133    0\n",
       "1134    0\n",
       "1135    0\n",
       "1136    1\n",
       "1137    0\n",
       "1138    0\n",
       "1139    0\n",
       "1140    1\n",
       "1141    0\n",
       "Name: def_nia_req_hh, dtype: int64"
      ]
     },
     "execution_count": 82,
     "metadata": {},
     "output_type": "execute_result"
    }
   ],
   "source": [
    "df_nut.def_nia_req_hh"
   ]
  },
  {
   "cell_type": "code",
   "execution_count": 83,
   "metadata": {
    "collapsed": true
   },
   "outputs": [],
   "source": [
    "df_nut['micro_rec_count'] = (df_nut.def_iron_rec_hh + df_nut.def_zinc_rec_hh + df_nut.def_vita_A_rec_hh + \n",
    "                             df_nut.def_vita_E_rec_hh + df_nut.def_vita_C_rec_hh + df_nut.def_ribof_rec_hh + \n",
    "                             df_nut.def_thia_rec_hh + df_nut.def_nia_rec_hh + df_nut.def_vita_B6_rec_hh + \n",
    "                             df_nut.def_fol_rec_hh + df_nut.def_calcium_rec_hh + df_nut.def_vita_B12_rec_hh)"
   ]
  },
  {
   "cell_type": "code",
   "execution_count": 84,
   "metadata": {
    "collapsed": false
   },
   "outputs": [],
   "source": [
    "df_nut['micro_rec_count_pct'] = df_nut['micro_rec_count'] / 12.0"
   ]
  },
  {
   "cell_type": "code",
   "execution_count": 85,
   "metadata": {
    "collapsed": false
   },
   "outputs": [
    {
     "data": {
      "text/plain": [
       "0       0.000000\n",
       "1       0.250000\n",
       "2       0.000000\n",
       "3       0.416667\n",
       "4       0.333333\n",
       "5       0.000000\n",
       "6       0.083333\n",
       "7       0.000000\n",
       "8       0.083333\n",
       "9       0.000000\n",
       "10      0.416667\n",
       "11      0.583333\n",
       "12      0.250000\n",
       "13      0.333333\n",
       "14      0.166667\n",
       "15      0.000000\n",
       "16      0.583333\n",
       "17      0.000000\n",
       "18      0.000000\n",
       "19      0.000000\n",
       "20      0.333333\n",
       "21      0.250000\n",
       "22      0.250000\n",
       "23      0.083333\n",
       "24      0.000000\n",
       "25      0.083333\n",
       "26      0.000000\n",
       "27      0.250000\n",
       "28      0.583333\n",
       "29      0.083333\n",
       "          ...   \n",
       "1112    0.416667\n",
       "1113    0.250000\n",
       "1114    0.083333\n",
       "1115    0.833333\n",
       "1116    0.750000\n",
       "1117    0.000000\n",
       "1118    0.250000\n",
       "1119    0.833333\n",
       "1120    0.000000\n",
       "1121    0.833333\n",
       "1122    0.833333\n",
       "1123    0.750000\n",
       "1124    0.000000\n",
       "1125    0.583333\n",
       "1126    0.416667\n",
       "1127    0.583333\n",
       "1128    0.166667\n",
       "1129    0.250000\n",
       "1130    0.583333\n",
       "1131    0.333333\n",
       "1132    0.083333\n",
       "1133    0.000000\n",
       "1134    0.083333\n",
       "1135    0.083333\n",
       "1136    0.416667\n",
       "1137    0.083333\n",
       "1138    0.083333\n",
       "1139    0.083333\n",
       "1140    0.416667\n",
       "1141    0.000000\n",
       "Name: micro_rec_count_pct, dtype: float64"
      ]
     },
     "execution_count": 85,
     "metadata": {},
     "output_type": "execute_result"
    }
   ],
   "source": [
    "df_nut['micro_rec_count_pct']"
   ]
  },
  {
   "cell_type": "code",
   "execution_count": 86,
   "metadata": {
    "collapsed": true
   },
   "outputs": [],
   "source": [
    "df_nut['micro_req_count'] = (df_nut.def_iron_req_hh + df_nut.def_zinc_req_hh + df_nut.def_vita_A_req_hh + \n",
    "                             df_nut.def_vita_E_req_hh + df_nut.def_vita_C_req_hh + df_nut.def_ribof_req_hh + \n",
    "                             df_nut.def_thia_req_hh + df_nut.def_nia_req_hh + df_nut.def_vita_B6_req_hh + \n",
    "                             df_nut.def_fol_req_hh + df_nut.def_calcium_req_hh + df_nut.def_vita_B12_req_hh)"
   ]
  },
  {
   "cell_type": "code",
   "execution_count": 87,
   "metadata": {
    "collapsed": true
   },
   "outputs": [],
   "source": [
    "df_nut['micro_req_count_pct'] = df_nut.micro_req_count / 12.0"
   ]
  },
  {
   "cell_type": "code",
   "execution_count": 88,
   "metadata": {
    "collapsed": false,
    "scrolled": true
   },
   "outputs": [],
   "source": [
    "df_aq_cals = df_nut[['hhid', 'def_kcal_ae_hh', 'micro_req_count', 'micro_rec_count', 'micro_req_count_pct', \n",
    "                     'micro_rec_count_pct']]\n"
   ]
  },
  {
   "cell_type": "code",
   "execution_count": 89,
   "metadata": {
    "collapsed": false,
    "scrolled": true
   },
   "outputs": [],
   "source": [
    "df_aq_cals.to_csv('micro_count.csv', index=False)"
   ]
  },
  {
   "cell_type": "code",
   "execution_count": 22,
   "metadata": {
    "collapsed": false
   },
   "outputs": [
    {
     "data": {
      "text/plain": [
       "<matplotlib.axes._subplots.AxesSubplot at 0x111e65fd0>"
      ]
     },
     "execution_count": 22,
     "metadata": {},
     "output_type": "execute_result"
    },
    {
     "data": {
      "image/png": "[encoded data removed]",
      "text/plain": [
       "<matplotlib.figure.Figure at 0x111e655d0>"
      ]
     },
     "metadata": {},
     "output_type": "display_data"
    }
   ],
   "source": [
    "df_aq_cals.micro_rec_count.hist()"
   ]
  },
  {
   "cell_type": "code",
   "execution_count": 23,
   "metadata": {
    "collapsed": false
   },
   "outputs": [
    {
     "data": {
      "text/plain": [
       "<matplotlib.axes._subplots.AxesSubplot at 0x112d54c90>"
      ]
     },
     "execution_count": 23,
     "metadata": {},
     "output_type": "execute_result"
    },
    {
     "data": {
      "image/png": "[encoded data removed]",
      "text/plain": [
       "<matplotlib.figure.Figure at 0x112d74a10>"
      ]
     },
     "metadata": {},
     "output_type": "display_data"
    }
   ],
   "source": [
    "df_aq_cals.micro_req_count.hist()"
   ]
  },
  {
   "cell_type": "code",
   "execution_count": null,
   "metadata": {
    "collapsed": true
   },
   "outputs": [],
   "source": []
  }
 ],
 "metadata": {
  "kernelspec": {
   "display_name": "Python 2",
   "language": "python",
   "name": "python2"
  },
  "language_info": {
   "codemirror_mode": {
    "name": "ipython",
    "version": 2
   },
   "file_extension": ".py",
   "mimetype": "text/x-python",
   "name": "python",
   "nbconvert_exporter": "python",
   "pygments_lexer": "ipython2",
   "version": "2.7.9"
  }
 },
 "nbformat": 4,
 "nbformat_minor": 0
}
